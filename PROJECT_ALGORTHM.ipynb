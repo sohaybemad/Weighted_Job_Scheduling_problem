{
 "cells": [
  {
   "cell_type": "code",
   "execution_count": 1,
   "id": "281b72e0",
   "metadata": {},
   "outputs": [],
   "source": [
    "def max_profit(jobs):\n",
    "    # Sort jobs by finish time\n",
    "    jobs = sorted(jobs, key=lambda x: x[1])\n",
    "    \n",
    "    # Initialize table with ZEROS\n",
    "    table = [0] * len(jobs)\n",
    "    \n",
    "    # Base case\n",
    "    table[0] = jobs[0][2]\n",
    "    \n",
    "    # Fill table\n",
    "    for i in range(1, len(jobs)):\n",
    "        # Find the latest job that doesn't overlap with the current job\n",
    "        j = i - 1\n",
    "        \n",
    "        # jobs[j][1] ===> END TIME \n",
    "        # jobs[i][0] ===> START TIME\n",
    "        # if condintion == TRUE that mean the two jobs Overlapping\n",
    "        while j >= 0 and jobs[j][1] > jobs[i][0]:\n",
    "            \n",
    "            j -= 1\n",
    "        \n",
    "        # Calculate the maximum profit including the current job\n",
    "        profit = jobs[i][2]\n",
    "        if j >= 0:\n",
    "            profit += table[j]\n",
    "        \n",
    "        # Store the maximum profit for this job\n",
    "        table[i] = max(profit, table[i-1])\n",
    "    \n",
    "    return table[-1]"
   ]
  },
  {
   "cell_type": "code",
   "execution_count": 2,
   "id": "ca13ed93",
   "metadata": {},
   "outputs": [],
   "source": [
    "jobs = [(1, 6, 6), (2, 5, 5), (5, 7, 5), (6, 8, 3)]"
   ]
  },
  {
   "cell_type": "code",
   "execution_count": 3,
   "id": "6189b572",
   "metadata": {},
   "outputs": [
    {
     "name": "stdout",
     "output_type": "stream",
     "text": [
      "10\n"
     ]
    }
   ],
   "source": [
    "print(max_profit(jobs))"
   ]
  }
 ],
 "metadata": {
  "kernelspec": {
   "display_name": "Python 3 (ipykernel)",
   "language": "python",
   "name": "python3"
  },
  "language_info": {
   "codemirror_mode": {
    "name": "ipython",
    "version": 3
   },
   "file_extension": ".py",
   "mimetype": "text/x-python",
   "name": "python",
   "nbconvert_exporter": "python",
   "pygments_lexer": "ipython3",
   "version": "3.9.13"
  }
 },
 "nbformat": 4,
 "nbformat_minor": 5
}
