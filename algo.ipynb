{
 "cells": [
  {
   "cell_type": "code",
   "execution_count": 1,
   "id": "cfe3a15c",
   "metadata": {},
   "outputs": [],
   "source": [
    "def job_scheduling(Jobs):\n",
    "    # Sort the jobs in decreasing order of their profits\n",
    "    Jobs = sorted(Jobs, key=lambda x: x[2], reverse=True)\n",
    "    \n",
    "    # Initialize variables\n",
    "    n = len(Jobs)  # Get the number of jobs\n",
    "    done_jobs = []  # Create an empty list to store the IDs of the jobs\n",
    "    profit = 0  # Initialize the profit earned from the jobs\n",
    "    time_slots = list(range(1, n+1))  # Create a list of available time slots from 1 to n\n",
    "    \n",
    "    # Iterate over each job and schedule it if possible\n",
    "    for job in Jobs:\n",
    "        deadline = job[1]  # Get the deadline of the current job\n",
    "        # Iterate over the available time slots in reverse order, starting from the time limit\n",
    "        for t in range(min(deadline, n), 0, -1):\n",
    "            if t in time_slots:  # If the current time slot is available, schedule the job\n",
    "                done_jobs.append(job[0])  # Add the ID of the job to the list of scheduled jobs\n",
    "                profit += job[2]  # Add the profit of the job to the total profit earned\n",
    "                time_slots.remove(t)  # Remove the current time slot from the list of available time slots\n",
    "                break  # Exit the inner loop since the job has been scheduled\n",
    "                \n",
    "    # Return the number of jobs done, maximum profit, and the job IDs\n",
    "    return len(done_jobs), profit, done_jobs"
   ]
  },
  {
   "cell_type": "code",
   "execution_count": 2,
   "id": "2a5a79e3",
   "metadata": {},
   "outputs": [
    {
     "name": "stdout",
     "output_type": "stream",
     "text": [
      "(2, 60, [3, 1])\n"
     ]
    }
   ],
   "source": [
    "Jobs = [(1,4,20),(2,1,10),(3,1,40),(4,1,30)]\n",
    "result = job_scheduling(Jobs)\n",
    "print(result)"
   ]
  }
 ],
 "metadata": {
  "kernelspec": {
   "display_name": "Python 3 (ipykernel)",
   "language": "python",
   "name": "python3"
  },
  "language_info": {
   "codemirror_mode": {
    "name": "ipython",
    "version": 3
   },
   "file_extension": ".py",
   "mimetype": "text/x-python",
   "name": "python",
   "nbconvert_exporter": "python",
   "pygments_lexer": "ipython3",
   "version": "3.9.12"
  }
 },
 "nbformat": 4,
 "nbformat_minor": 5
}
